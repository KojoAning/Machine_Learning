{
 "cells": [
  {
   "cell_type": "markdown",
   "metadata": {},
   "source": []
  },
  {
   "cell_type": "code",
   "execution_count": 1,
   "metadata": {},
   "outputs": [],
   "source": [
    "import tensorflow as tf "
   ]
  },
  {
   "cell_type": "code",
   "execution_count": 4,
   "metadata": {},
   "outputs": [],
   "source": [
    "import os\n",
    "main_path = \"Datasets/dogs-vs-cats\"\n",
    "train = os.path.join(main_path,'train')\n",
    "train = os.path.normpath('Datasets/dogs-vs-cats/train')\n",
    "\n",
    "test = os.path.join(main_path,'test')\n",
    "test = os.path.normpath('Datasets/dogs-vs-cats/test')\n",
    "\n",
    "train_cats_path = os.path.join(train,'cats')\n",
    "train_cats_path = os.path.normpath('Datasets/dogs-vs-cats/train/cats')\n",
    "\n",
    "train_dogs_path = os.path.join(train,'dogs')\n",
    "train_dogs_path = os.path.normpath('Datasets/dogs-vs-cats/train/dogs')\n",
    "\n",
    "# train_cats = os.mkdir(train_cats_path)\n",
    "# train_dogs = os.mkdir(train_dogs_path)\n",
    "\n"
   ]
  },
  {
   "cell_type": "code",
   "execution_count": 5,
   "metadata": {},
   "outputs": [
    {
     "name": "stdout",
     "output_type": "stream",
     "text": [
      "10000\n"
     ]
    }
   ],
   "source": [
    "print(len(os.listdir(os.path.join('Datasets/dogs-vs-cats/test/cats'))))\n",
    "# print(train_dogs)"
   ]
  },
  {
   "cell_type": "code",
   "execution_count": 4,
   "metadata": {},
   "outputs": [],
   "source": [
    "import os\n",
    "os.environ['TF_FORCE_GPU_ALLOW_GROWTH'] = 'true'"
   ]
  },
  {
   "cell_type": "code",
   "execution_count": 6,
   "metadata": {},
   "outputs": [
    {
     "name": "stdout",
     "output_type": "stream",
     "text": [
      "Found 25000 images belonging to 2 classes.\n",
      "Found 12500 images belonging to 2 classes.\n"
     ]
    }
   ],
   "source": [
    "from tensorflow.keras.preprocessing.image import ImageDataGenerator\n",
    "\n",
    "train_data_gen = ImageDataGenerator(rescale=1/255, shear_range=0.2,fill_mode='nearest',horizontal_flip=True,vertical_flip=True)\n",
    "\n",
    "\n",
    "validation_data_gen = ImageDataGenerator(rescale=1/255)\n",
    "\n",
    "\n",
    "train = train_data_gen.flow_from_directory(train,target_size=(150,150),class_mode ='binary')\n",
    "validation = validation_data_gen.flow_from_directory(test,target_size=(150,150),class_mode='binary')\n"
   ]
  },
  {
   "cell_type": "code",
   "execution_count": 7,
   "metadata": {},
   "outputs": [],
   "source": [
    "model = tf.keras.models.Sequential()\n",
    "model.add(tf.keras.layers.Conv2D(128,(3,3),activation='relu',input_shape = (150,150,3)))\n",
    "model.add(tf.keras.layers.MaxPooling2D((2,2)))\n",
    "model.add(tf.keras.layers.Conv2D(64,(3,3),activation='relu'))\n",
    "model.add(tf.keras.layers.MaxPooling2D((2,2)))\n",
    "model.add(tf.keras.layers.Conv2D(32,(3,3),activation='relu'))\n",
    "model.add(tf.keras.layers.MaxPooling2D((2,2)))\n",
    "model.add(tf.keras.layers.Flatten())\n",
    "model.add(tf.keras.layers.Dense(1024,activation = 'relu'))\n",
    "model.add(tf.keras.layers.Dense(1,activation='sigmoid'))"
   ]
  },
  {
   "cell_type": "code",
   "execution_count": 8,
   "metadata": {},
   "outputs": [],
   "source": [
    "model.compile(optimizer = 'adam',loss = 'binary_crossentropy',metrics = ['accuracy'])"
   ]
  },
  {
   "cell_type": "code",
   "execution_count": 9,
   "metadata": {},
   "outputs": [
    {
     "name": "stdout",
     "output_type": "stream",
     "text": [
      "Epoch 1/20\n",
      "782/782 [==============================] - 213s 268ms/step - loss: 0.6250 - accuracy: 0.6598 - val_loss: 0.5018 - val_accuracy: 0.7780\n",
      "Epoch 2/20\n",
      "782/782 [==============================] - 160s 205ms/step - loss: 0.5271 - accuracy: 0.7389 - val_loss: 0.4760 - val_accuracy: 0.7724\n",
      "Epoch 3/20\n",
      "782/782 [==============================] - 158s 203ms/step - loss: 0.4746 - accuracy: 0.7774 - val_loss: 0.3932 - val_accuracy: 0.8337\n",
      "Epoch 4/20\n",
      "782/782 [==============================] - 164s 210ms/step - loss: 0.4453 - accuracy: 0.7918 - val_loss: 0.3291 - val_accuracy: 0.8623s - loss: 0.4472 - accuracy: 0.79 - ETA: 7s - loss: 0.446 - ETA: 6s - loss: 0.4463  - ETA: 0s - loss: 0.4454 - accuracy\n",
      "Epoch 5/20\n",
      "782/782 [==============================] - 162s 207ms/step - loss: 0.4195 - accuracy: 0.8084 - val_loss: 0.3246 - val_accuracy: 0.8733\n",
      "Epoch 6/20\n",
      "782/782 [==============================] - 165s 212ms/step - loss: 0.3924 - accuracy: 0.8255 - val_loss: 0.3956 - val_accuracy: 0.8237\n",
      "Epoch 7/20\n",
      "782/782 [==============================] - 164s 210ms/step - loss: 0.3663 - accuracy: 0.8400 - val_loss: 0.3606 - val_accuracy: 0.8438\n",
      "Epoch 8/20\n",
      "782/782 [==============================] - 160s 204ms/step - loss: 0.3408 - accuracy: 0.8526 - val_loss: 0.2774 - val_accuracy: 0.8866\n",
      "Epoch 9/20\n",
      "782/782 [==============================] - 160s 204ms/step - loss: 0.3094 - accuracy: 0.8695 - val_loss: 0.2948 - val_accuracy: 0.8752\n",
      "Epoch 10/20\n",
      "782/782 [==============================] - 166s 213ms/step - loss: 0.2840 - accuracy: 0.8807 - val_loss: 0.2777 - val_accuracy: 0.8878\n",
      "Epoch 11/20\n",
      "782/782 [==============================] - 157s 201ms/step - loss: 0.2519 - accuracy: 0.8982 - val_loss: 0.2555 - val_accuracy: 0.8982\n",
      "Epoch 12/20\n",
      "782/782 [==============================] - 154s 196ms/step - loss: 0.2264 - accuracy: 0.9119 - val_loss: 0.2302 - val_accuracy: 0.9116\n",
      "Epoch 13/20\n",
      "782/782 [==============================] - 161s 206ms/step - loss: 0.1957 - accuracy: 0.9252 - val_loss: 0.2018 - val_accuracy: 0.9252\n",
      "Epoch 14/20\n",
      "782/782 [==============================] - 158s 202ms/step - loss: 0.1757 - accuracy: 0.9325 - val_loss: 0.1926 - val_accuracy: 0.9323\n",
      "Epoch 15/20\n",
      "782/782 [==============================] - 157s 200ms/step - loss: 0.1575 - accuracy: 0.9433 - val_loss: 0.2014 - val_accuracy: 0.9298\n",
      "Epoch 16/20\n",
      "782/782 [==============================] - 166s 212ms/step - loss: 0.1425 - accuracy: 0.9490 - val_loss: 0.1922 - val_accuracy: 0.9358\n",
      "Epoch 17/20\n",
      "782/782 [==============================] - 160s 204ms/step - loss: 0.1167 - accuracy: 0.9585 - val_loss: 0.2016 - val_accuracy: 0.9335\n",
      "Epoch 18/20\n",
      "782/782 [==============================] - 158s 202ms/step - loss: 0.1087 - accuracy: 0.9622 - val_loss: 0.2074 - val_accuracy: 0.9365\n",
      "Epoch 19/20\n",
      "782/782 [==============================] - 161s 206ms/step - loss: 0.0953 - accuracy: 0.9675 - val_loss: 0.1908 - val_accuracy: 0.9438\n",
      "Epoch 20/20\n",
      "782/782 [==============================] - 160s 204ms/step - loss: 0.0863 - accuracy: 0.9691 - val_loss: 0.2084 - val_accuracy: 0.9401\n"
     ]
    }
   ],
   "source": [
    "history = model.fit(train,batch_size = 32,epochs=20,validation_data=validation)"
   ]
  },
  {
   "cell_type": "code",
   "execution_count": 13,
   "metadata": {},
   "outputs": [
    {
     "data": {
      "text/plain": [
       "<Figure size 14400x7200 with 0 Axes>"
      ]
     },
     "execution_count": 13,
     "metadata": {},
     "output_type": "execute_result"
    },
    {
     "data": {
      "image/png": "[encoded data removed]",
      "text/plain": [
       "<Figure size 432x288 with 1 Axes>"
      ]
     },
     "metadata": {
      "needs_background": "light"
     },
     "output_type": "display_data"
    },
    {
     "data": {
      "text/plain": [
       "<Figure size 14400x7200 with 0 Axes>"
      ]
     },
     "metadata": {},
     "output_type": "display_data"
    }
   ],
   "source": [
    "import matplotlib.pyplot as plt\n",
    "\n",
    "\n",
    "# plt.figsiz\n",
    "\n",
    "acc = history.history['accuracy']\n",
    "val = history.history['val_accuracy']\n",
    "epochs = range(len(acc))\n",
    "plt.plot(epochs,acc,'o',label='accuracy')\n",
    "plt.plot(epochs,val,'b',label='validation_accuracy')\n",
    "plt.legend()\n",
    "\n",
    "plt.figure(figsize=(200,100))\n",
    "\n"
   ]
  },
  {
   "cell_type": "code",
   "execution_count": 28,
   "metadata": {},
   "outputs": [
    {
     "name": "stdout",
     "output_type": "stream",
     "text": [
      "[[0.37736788]]\n"
     ]
    }
   ],
   "source": [
    "import cv2 as cv\n",
    "import numpy as np\n",
    "\n",
    "cap = cv.imread('Datasets/dogs-vs-cats/test2/50.jpg')\n",
    "\n",
    "img = cv.resize(cap,(150,150))\n",
    "img = img/255\n",
    "img = np.reshape(img,(1,150,150,3))\n",
    "img = np.vstack([img])\n",
    "\n",
    "result = model.predict(img)\n",
    "\n",
    "print(result)"
   ]
  },
  {
   "cell_type": "code",
   "execution_count": null,
   "metadata": {},
   "outputs": [],
   "source": []
  }
 ],
 "metadata": {
  "interpreter": {
   "hash": "7eca05444f743168227b25de02508ae3cae8d6992c7c80a519e6fd77d506a787"
  },
  "kernelspec": {
   "display_name": "Python 3.9.9 64-bit ('tensorflow-gpu': conda)",
   "language": "python",
   "name": "python3"
  },
  "language_info": {
   "codemirror_mode": {
    "name": "ipython",
    "version": 3
   },
   "file_extension": ".py",
   "mimetype": "text/x-python",
   "name": "python",
   "nbconvert_exporter": "python",
   "pygments_lexer": "ipython3",
   "version": "3.9.9"
  },
  "orig_nbformat": 4
 },
 "nbformat": 4,
 "nbformat_minor": 2
}
