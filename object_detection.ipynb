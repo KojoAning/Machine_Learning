{
 "cells": [
  {
   "cell_type": "markdown",
   "metadata": {},
   "source": [
    "Tensorflow Object detection Using Efficientdet_d7_coco_tpu-32"
   ]
  },
  {
   "cell_type": "code",
   "execution_count": 2,
   "metadata": {},
   "outputs": [],
   "source": [
    "#import neccessary libraries\n",
    "\n",
    "import tensorflow as tf \n",
    "import cv2 as cv \n",
    "import numpy as np"
   ]
  },
  {
   "cell_type": "code",
   "execution_count": 3,
   "metadata": {},
   "outputs": [
    {
     "name": "stdout",
     "output_type": "stream",
     "text": [
      "WARNING:tensorflow:SavedModel saved prior to TF 2.5 detected when loading Keras model. Please ensure that you are saving the model with model.save() or tf.keras.models.save_model(), *NOT* tf.saved_model.save(). To confirm, there should be a file named \"keras_metadata.pb\" in the SavedModel directory.\n"
     ]
    },
    {
     "name": "stderr",
     "output_type": "stream",
     "text": [
      "c:\\Users\\XPRESS\\Anaconda3\\envs\\tensorflow-gpu\\lib\\site-packages\\keras\\layers\\core\\lambda_layer.py:297: UserWarning: google3.third_party.tensorflow.python.ops.nn_impl is not loaded, but a Lambda layer uses it. It may cause errors.\n",
      "  function = cls._parse_function_from_config(config, custom_objects,\n",
      "c:\\Users\\XPRESS\\Anaconda3\\envs\\tensorflow-gpu\\lib\\site-packages\\keras\\layers\\core\\lambda_layer.py:297: UserWarning: google3.third_party.tensorflow_models.object_detection.utils.bifpn_utils is not loaded, but a Lambda layer uses it. It may cause errors.\n",
      "  function = cls._parse_function_from_config(config, custom_objects,\n",
      "WARNING:absl:Importing a function (__inference_EfficientDet-D6-D7_layer_call_and_return_conditional_losses_233604) with ops with unsaved custom gradients. Will likely fail if a gradient is requested.\n",
      "WARNING:absl:Importing a function (__inference_bifpn_layer_call_and_return_conditional_losses_169633) with ops with unsaved custom gradients. Will likely fail if a gradient is requested.\n",
      "WARNING:absl:Importing a function (__inference___call___54382) with ops with unsaved custom gradients. Will likely fail if a gradient is requested.\n",
      "WARNING:absl:Importing a function (__inference_EfficientDet-D6-D7_layer_call_and_return_conditional_losses_218766) with ops with unsaved custom gradients. Will likely fail if a gradient is requested.\n",
      "WARNING:absl:Importing a function (__inference_EfficientDet-D6-D7_layer_call_and_return_conditional_losses_209972) with ops with unsaved custom gradients. Will likely fail if a gradient is requested.\n",
      "WARNING:absl:Importing a function (__inference_bifpn_layer_call_and_return_conditional_losses_166209) with ops with unsaved custom gradients. Will likely fail if a gradient is requested.\n",
      "WARNING:absl:Importing a function (__inference_EfficientDet-D6-D7_layer_call_and_return_conditional_losses_242398) with ops with unsaved custom gradients. Will likely fail if a gradient is requested.\n"
     ]
    }
   ],
   "source": [
    "#load tfod model\n",
    "model_path = \"efficientdet_d7_coco17_tpu-32/saved_model\"\n",
    "model = tf.keras.models.load_model(model_path)"
   ]
  },
  {
   "cell_type": "code",
   "execution_count": 34,
   "metadata": {},
   "outputs": [],
   "source": [
    "#read the labels of the detection \n",
    "\n",
    "with open('coco.names','r') as f:\n",
    "    names = f.read().splitlines()"
   ]
  },
  {
   "cell_type": "code",
   "execution_count": 47,
   "metadata": {},
   "outputs": [
    {
     "name": "stdout",
     "output_type": "stream",
     "text": [
      "770\n",
      "##################\n",
      "438 209\n",
      "[ 89.91189339 112.97890126 208.51426595]\n",
      "##################\n",
      "352 269\n",
      "[ 36.14658754 216.86299912 151.74856852]\n",
      "##################\n",
      "675 355\n",
      "[248.31401365 234.17590993   2.15155648]\n",
      "##################\n",
      "620 235\n",
      "[171.17164162  51.41402877 110.12254285]\n",
      "##################\n",
      "134 278\n",
      "[221.22355015 132.97385959  74.90448937]\n",
      "##################\n",
      "326 222\n",
      "[ 94.5925911  237.48703073  25.67982466]\n",
      "##################\n",
      "639 222\n",
      "[173.29640045 161.47596151 105.83043005]\n",
      "##################\n",
      "391 260\n",
      "[210.10655285  84.45207118  54.48117106]\n",
      "##################\n",
      "121 202\n",
      "[103.27853854  99.93893642 177.59429877]\n",
      "##################\n",
      "370 200\n",
      "[175.90890994 214.14906414   2.47150883]\n",
      "##################\n",
      "175 332\n",
      "[ 77.75197892  64.46193644 116.08914772]\n",
      "##################\n",
      "312 311\n",
      "[ 83.26285854 218.40723807 144.83097986]\n",
      "##################\n",
      "85 200\n",
      "[163.34508033  64.58492344  18.49001676]\n",
      "##################\n",
      "227 191\n",
      "[116.82911942 107.94619275  21.42163969]\n",
      "##################\n",
      "581 223\n",
      "[111.13234356 224.09319557  74.35932568]\n",
      "##################\n",
      "316 185\n",
      "[ 51.85473761 223.71330104  19.99353379]\n",
      "##################\n",
      "263 191\n",
      "[ 61.97329497 247.07837002   0.94981023]\n"
     ]
    }
   ],
   "source": [
    "img =cv.imread(r\"crosswalk-featured.jpg\")\n",
    "tensorimg = cv.cvtColor(img,cv.COLOR_BGR2RGB)  #convert BGR image to RGB image\n",
    "tensorimg = tf.convert_to_tensor(tensorimg.copy(),dtype=tf.uint8) #convert image to tensorflw tensor\n",
    "tensorimg = tensorimg[tf.newaxis,...] #expand dimensions \n",
    "\n",
    "detection = model(tensorimg)\n",
    "detection_boxes = detection[\"detection_boxes\"][0].numpy()\n",
    "detection_classes = detection[\"detection_classes\"][0].numpy().astype(np.int32)\n",
    "detection_scores = detection[\"detection_scores\"][0].numpy()\n",
    "\n",
    "\n",
    "\n",
    "random_color = np.random.uniform(low=0,high=255,size=(80,3))\n",
    "\n",
    "bboxIdx = tf.image.non_max_suppression(detection_boxes,detection_scores,max_output_size=50,iou_threshold=0.5,score_threshold=0.5)\n",
    "\n",
    "\n",
    "#function to create bounding box\n",
    "\n",
    "def create_bbox(image):\n",
    "    imH,imW,imC = image.shape\n",
    "    for i in bboxIdx:\n",
    "        bbox = tuple(detection_boxes[i].tolist())\n",
    "        classname = detection_classes[i]\n",
    "        classname = names[classname-1]\n",
    "        ymin,xmin,ymax,xmax =bbox\n",
    "        ymin,xmin,ymax,xmax = (ymin*imH,xmin*imW,ymax*imH,xmax*imW)\n",
    "        ymin = int(ymin)\n",
    "        xmin = int(xmin)\n",
    "        ymax = int(ymax)\n",
    "        xmax = int(xmax)\n",
    "        \n",
    "        # print(ymin,ymax,xmin,xmax)\n",
    "        center1 = int((xmin+xmax)/2)\n",
    "        center2 = int((ymin+ymax)/2)\n",
    "        center3 = np.random.randint(xmax/2,xmax)\n",
    "        center4 = np.random.randint(ymin,ymax)\n",
    "        center5 = np.random.randint(ymin,ymax)\n",
    "    \n",
    "        print(center3,center4)\n",
    "        if (center3-center4) < 200:\n",
    "            center3 += 100\n",
    "            center4 += 100\n",
    "        else:\n",
    "            pass\n",
    "        \n",
    "        color =random_color[i]\n",
    "        print(color)\n",
    "    \n",
    "        cv.rectangle(image,(xmin,ymin),(xmax,ymax),(color),1)\n",
    "        cv.line(image,(xmin,ymin),(xmin+20,ymin),(color),3)\n",
    "        cv.line(image,(xmin,ymin),(xmin,ymin+20),(color),3)\n",
    "        cv.line(image,(xmax-20,ymin),(xmax,ymin),(color),3)\n",
    "        cv.line(image,(xmax,ymin),(xmax,ymin+20),(color),3)\n",
    "        cv.line(image,(xmax,ymax),(xmax-20,ymax),(color),3)\n",
    "        cv.line(image,(xmax,ymax-20),(xmax,ymax),(color),3)\n",
    "        cv.line(image,(xmin+20,ymax),(xmin,ymax),(color),3)\n",
    "        cv.line(image,(xmin,ymax-20),(xmin,ymax),(color),3)\n",
    "        cv.putText(image,(classname.upper()),(xmin,ymin-5),cv.FONT_HERSHEY_PLAIN,1.0,(color),2)\n",
    "\n",
    "\n",
    "    return image\n",
    "\n",
    "\n",
    "\n",
    "\n",
    "\n",
    "image = create_bbox(img)\n",
    "cv.imshow(\"img\",image)\n",
    "\n",
    "\n",
    "cv.waitKey(0)\n",
    "cv.destroyAllWindows()\n"
   ]
  }
 ],
 "metadata": {
  "kernelspec": {
   "display_name": "Python 3.9.9 ('tensorflow-gpu')",
   "language": "python",
   "name": "python3"
  },
  "language_info": {
   "codemirror_mode": {
    "name": "ipython",
    "version": 3
   },
   "file_extension": ".py",
   "mimetype": "text/x-python",
   "name": "python",
   "nbconvert_exporter": "python",
   "pygments_lexer": "ipython3",
   "version": "3.9.9"
  },
  "orig_nbformat": 4,
  "vscode": {
   "interpreter": {
    "hash": "6044cbfacf5d5106cab388b0401c1f1c68efa341509c60f9f5664fb81ce626f8"
   }
  }
 },
 "nbformat": 4,
 "nbformat_minor": 2
}
